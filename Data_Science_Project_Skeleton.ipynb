{
  "cells": [
    {
      "cell_type": "markdown",
      "metadata": {
        "id": "view-in-github",
        "colab_type": "text"
      },
      "source": [
        "<a href=\"https://colab.research.google.com/github/MaleMynk/income-regression-ds0/blob/main/Data_Science_Project_Skeleton.ipynb\" target=\"_parent\"><img src=\"https://colab.research.google.com/assets/colab-badge.svg\" alt=\"Open In Colab\"/></a>"
      ]
    },
    {
      "cell_type": "markdown",
      "metadata": {
        "id": "sAcC5_t_u78R"
      },
      "source": [
        "<a id='table_of_contents'></a>\n",
        "\n",
        "0. [Import libraries](#imports)\n",
        "1. [Import data](#import_data)\n",
        "2. [Data exploration](#data_exploration)\n",
        "3. [Data cleaning](#data_cleaning)\n",
        "4. [Data preparation](#data_preparation)\n",
        "5. [Benchmark model](#benchmark_model)<br>\n",
        "6. [Feature engineering](#feature_engineering)\n",
        "7. [Model training](#model_training)<br>\n",
        "    7.1. [Decision Tree](#decision_tree)<br>\n",
        "    7.2. [Random Forest](#random_forest)<br>\n",
        "    7.3. [Comparing algorithm performances](#comparing_algorithm_performances)\n",
        "8. [Tuning](#tuning)<br>"
      ]
    },
    {
      "cell_type": "markdown",
      "metadata": {
        "id": "OSTGNrKsu78V"
      },
      "source": [
        "# 0. Import libraries <a id='imports'></a>\n",
        "[Back to top](#table_of_contents)"
      ]
    },
    {
      "cell_type": "code",
      "source": [
        "import pandas as pd\n",
        "import numpy as np"
      ],
      "metadata": {
        "id": "cp73Ydo0x3vl"
      },
      "execution_count": 2,
      "outputs": []
    },
    {
      "cell_type": "markdown",
      "metadata": {
        "id": "IpQRoZ8Mu78W"
      },
      "source": [
        "# 1. Import data <a id='import_data'></a>\n",
        "[Back to top](#table_of_contents)"
      ]
    },
    {
      "cell_type": "markdown",
      "metadata": {
        "id": "6dGb7TuEu78W"
      },
      "source": [
        "# 2. Data exploration <a id='data_exploration'></a>\n",
        "[Back to top](#table_of_contents)"
      ]
    },
    {
      "cell_type": "markdown",
      "metadata": {
        "id": "MT_TfVtAu78W"
      },
      "source": [
        "# 3. Data cleaning <a id='data_cleaning'></a>\n",
        "[Back to top](#table_of_contents)"
      ]
    },
    {
      "cell_type": "markdown",
      "metadata": {
        "id": "CtJm8ZzLu78X"
      },
      "source": [
        "# 4. Data preparation <a id='data_preparation'></a>\n",
        "[Back to top](#table_of_contents)"
      ]
    },
    {
      "cell_type": "markdown",
      "metadata": {
        "id": "YR1ORk0Du78X"
      },
      "source": [
        "# 5. Benchmark model <a id='benchmark_model'></a>\n",
        "[Back to top](#table_of_contents)"
      ]
    },
    {
      "cell_type": "markdown",
      "metadata": {
        "id": "Wrm9xFVXu78X"
      },
      "source": [
        "# 6. Feature engineering <a id='feature_engineering'></a>\n",
        "[Back to top](#table_of_contents)"
      ]
    },
    {
      "cell_type": "markdown",
      "metadata": {
        "id": "UAao1QqLu78Y"
      },
      "source": [
        "# 7. Model training <a id='model_training'></a>\n",
        "[Back to top](#table_of_contents)"
      ]
    },
    {
      "cell_type": "markdown",
      "metadata": {
        "id": "waawNj1uu78Y"
      },
      "source": [
        "## 7.1. Decision tree <a id='decision_tree'></a>"
      ]
    },
    {
      "cell_type": "markdown",
      "metadata": {
        "id": "XZ4_OZ6fu78Y"
      },
      "source": [
        "## 7.2. Random forest <a id='random_forest'></a>"
      ]
    },
    {
      "cell_type": "markdown",
      "metadata": {
        "id": "4WSnP3MNu78Y"
      },
      "source": [
        "## 7.3. Comparing algorithm performances <a id='comparing_algorithm_performances'></a>"
      ]
    },
    {
      "cell_type": "markdown",
      "metadata": {
        "id": "ovu1jE0eu78Z"
      },
      "source": [
        "# 8. Tuning <a id='tuning'></a>\n",
        "[Back to top](#table_of_contents)"
      ]
    }
  ],
  "metadata": {
    "kernelspec": {
      "display_name": "Python 3",
      "language": "python",
      "name": "python3"
    },
    "language_info": {
      "codemirror_mode": {
        "name": "ipython",
        "version": 3
      },
      "file_extension": ".py",
      "mimetype": "text/x-python",
      "name": "python",
      "nbconvert_exporter": "python",
      "pygments_lexer": "ipython3",
      "version": "3.8.3"
    },
    "colab": {
      "provenance": [],
      "include_colab_link": true
    }
  },
  "nbformat": 4,
  "nbformat_minor": 0
}